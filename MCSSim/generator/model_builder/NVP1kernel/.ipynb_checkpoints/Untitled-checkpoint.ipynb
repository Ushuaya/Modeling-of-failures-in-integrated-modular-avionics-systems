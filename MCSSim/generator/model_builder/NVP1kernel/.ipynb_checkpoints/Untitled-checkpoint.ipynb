{
 "cells": [
  {
   "cell_type": "code",
   "execution_count": 4,
   "id": "cdff3466",
   "metadata": {},
   "outputs": [
    {
     "name": "stdout",
     "output_type": "stream",
     "text": [
      "{'SELECTOR': ['20', '25', '80', '85', '140', '145', '200', '205'], 'task1': ['0', '9'], 'task2': ['9', '18'], 'task3': ['60', '69'], 'task4': ['69', '78'], 'task5': ['129', '138'], 'task6': ['120', '129'], 'task7': ['191', '200'], 'task8': ['180', '191'], 'task73': ['229', '238'], 'task83': ['220', '229']}\n"
     ]
    }
   ],
   "source": [
    "class INTERVAL:\n",
    "    task_intervals = {}\n",
    "    def create_int(self, filename):\n",
    "        with open(filename, \"r\") as file:\n",
    "            txt_list = file.read().split()\n",
    "            for i in range(len(txt_list)): \n",
    "                if txt_list[i] == \"<task\":\n",
    "                    this_name = txt_list[i+2].split('\\\"')[-2]\n",
    "                    self.task_intervals[this_name] = []\n",
    "                    while True:\n",
    "                        while txt_list[i].split(\"=\")[0] != \"time\" and txt_list[i] != \"</task>\":\n",
    "                            i+=1\n",
    "                        if txt_list[i].split(\"=\")[0] == \"time\":\n",
    "                            this_time = txt_list[i].split(\"\\\"\")[-2]\n",
    "                            self.task_intervals[this_name].append(this_time)\n",
    "                            i+=1\n",
    "                        else:\n",
    "                            break\n",
    "        return self.task_intervals\n",
    "\n",
    "    def print_intervals(self):\n",
    "        print(self.task_intervals)\n",
    "\n",
    "#\"4_fault_43.out\"\n",
    "tmp = INTERVAL()\n",
    "inter = tmp.create_int(\"4_fault_43.out\")\n",
    "tmp.print_intervals()"
   ]
  },
  {
   "cell_type": "code",
   "execution_count": 191,
   "id": "ddcf09e4",
   "metadata": {},
   "outputs": [
    {
     "name": "stdout",
     "output_type": "stream",
     "text": [
      "SELECTOR  - -  #eaaaff\n",
      "task1  - -  blue\n",
      "task2  - -  orange\n",
      "task3  - -  green\n",
      "task4  - -  purple\n",
      "task5  - -  red\n",
      "task6  - -  brown\n",
      "task7  - -  pink\n",
      "task8  - -  gray\n",
      "task73  - -  olive\n",
      "task83  - -  cyan\n",
      "[0, 20, 40, 60, 80, 100, 120, 140, 160, 180, 200, 220]\n"
     ]
    },
    {
     "data": {
      "image/png": "[encoded data removed]",
      "text/plain": [
       "<Figure size 1440x360 with 1 Axes>"
      ]
     },
     "metadata": {
      "needs_background": "light"
     },
     "output_type": "display_data"
    }
   ],
   "source": [
    "\n",
    "import matplotlib.pyplot as plt\n",
    "import pandas as pd\n",
    "import numpy as np\n",
    "\n",
    "class VISUALISER:\n",
    "    \"\"\"Class, that visualise given dict with time intervals.\"\"\"\n",
    "    \n",
    "    colours = ['#eaaaff', 'blue', 'orange', 'green', 'purple', 'red', 'brown', 'pink', 'gray', 'olive', 'cyan']\n",
    "\n",
    "    def visualise(self, dict_inter)\n",
    "        \"\"\"Visualisation using matplotlib.\"\"\"\n",
    "        begins = []\n",
    "        ends = []\n",
    "\n",
    "        fig, ax = plt.subplots()\n",
    "\n",
    "        j=0\n",
    "        for i in task_intervals: \n",
    "            begins =list(map(int, task_intervals[i][::2]))\n",
    "            ends =list(map(int, task_intervals[i][1::2]))\n",
    "            df = pd.DataFrame({\"begin\": begins, \"end\" : ends})\n",
    "            colour = self.colours[j%len(colours)]\n",
    "            ax.broken_barh(list(zip(df[\"begin\"].values, (df[\"end\"] - df[\"begin\"]).values)), (0, 0.5), facecolors=(colour))\n",
    "            j+=1\n",
    "            for p in begins:\n",
    "                ax.annotate(i, (p, 0.5), xytext=((p+2)/240, 0.9), textcoords='axes fraction', arrowprops=dict(shrink=0.0001))\n",
    "\n",
    "        windws = list(map(int, list(np.arange(0, 240, 20))))\n",
    "        begins = []\n",
    "        ends = []\n",
    "\n",
    "        for i in windws:\n",
    "            begins.append(i)\n",
    "            ends.append(i+1)\n",
    "            \n",
    "        df = pd.DataFrame({\"begin\": begins, \"end\" : ends})\n",
    "        ax.broken_barh(list(zip(df[\"begin\"].values, (df[\"end\"] - df[\"begin\"]).values)), (0, 1), facecolors='black')\n",
    "        ax.set_ylim(0, 1)\n",
    "        ax.set_xlim(0, 240)\n",
    "        plt.xticks(np.arange(0, 240+1, 10.0))\n",
    "        plt.yticks([])\n",
    "        ax.grid(True)\n",
    "        fig.set_size_inches(20, 1 * 5, forward=True)\n",
    "        plt.savefig('4_fault_43.png')\n",
    "\n",
    "\n",
    "\n",
    "    "
   ]
  },
  {
   "cell_type": "code",
   "execution_count": null,
   "id": "9fb7e2dc",
   "metadata": {},
   "outputs": [],
   "source": []
  },
  {
   "cell_type": "code",
   "execution_count": null,
   "id": "7eebaccd",
   "metadata": {},
   "outputs": [],
   "source": []
  }
 ],
 "metadata": {
  "kernelspec": {
   "display_name": "Python 3 (ipykernel)",
   "language": "python",
   "name": "python3"
  },
  "language_info": {
   "codemirror_mode": {
    "name": "ipython",
    "version": 3
   },
   "file_extension": ".py",
   "mimetype": "text/x-python",
   "name": "python",
   "nbconvert_exporter": "python",
   "pygments_lexer": "ipython3",
   "version": "3.9.10"
  }
 },
 "nbformat": 4,
 "nbformat_minor": 5
}
